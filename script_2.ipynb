{
 "cells": [
  {
   "cell_type": "markdown",
   "metadata": {},
   "source": [
    "## Importing Modules that will be used"
   ]
  },
  {
   "cell_type": "code",
   "execution_count": 1,
   "metadata": {},
   "outputs": [],
   "source": [
    "import pandas as pd\n",
    "import numpy as np\n",
    "import matplotlib.pyplot as plt\n",
    "from datetime import *\n",
    "from scipy import stats\n",
    "import seaborn as sns"
   ]
  },
  {
   "cell_type": "markdown",
   "metadata": {},
   "source": [
    "## Setting number format to display in this notebook"
   ]
  },
  {
   "cell_type": "code",
   "execution_count": 2,
   "metadata": {},
   "outputs": [],
   "source": [
    "pd.options.display.float_format = '{:,.2f}'.format"
   ]
  },
  {
   "cell_type": "markdown",
   "metadata": {},
   "source": [
    "## Creating functions that will be used in this notebook"
   ]
  },
  {
   "cell_type": "code",
   "execution_count": 3,
   "metadata": {},
   "outputs": [],
   "source": [
    "def string_tdate(x):\n",
    "    return datetime.fromisoformat(x)"
   ]
  },
  {
   "cell_type": "markdown",
   "metadata": {},
   "source": [
    "## Importing dataframes from internet\n",
    "##### url: https://ourworldindata.org/covid-vaccinations"
   ]
  },
  {
   "cell_type": "code",
   "execution_count": 4,
   "metadata": {},
   "outputs": [],
   "source": [
    "df_vaccine = pd.read_csv('data/covid-vaccine-doses-by-manufacturer.csv')\n",
    "df_covid = pd.read_csv('owid-covid-data.csv')"
   ]
  },
  {
   "cell_type": "markdown",
   "metadata": {},
   "source": [
    "# 1 - Cleaning dataset"
   ]
  },
  {
   "cell_type": "markdown",
   "metadata": {},
   "source": [
    "### Applying date functions to change format to datetime"
   ]
  },
  {
   "cell_type": "code",
   "execution_count": 5,
   "metadata": {},
   "outputs": [],
   "source": [
    "df_vaccine.Day = df_vaccine.Day.apply(string_tdate)\n",
    "df_covid.date = df_covid.date.apply(string_tdate)"
   ]
  },
  {
   "cell_type": "code",
   "execution_count": 6,
   "metadata": {},
   "outputs": [],
   "source": [
    "df_covid.new_deaths = df_covid.new_deaths.apply(lambda x: x if x >= 0 else 0)\n",
    "df_covid.new_deaths = df_covid.new_deaths.fillna(value = 0)"
   ]
  },
  {
   "cell_type": "markdown",
   "metadata": {},
   "source": [
    "### Cleaning columns from dataset that won't be used"
   ]
  },
  {
   "cell_type": "code",
   "execution_count": 7,
   "metadata": {},
   "outputs": [],
   "source": [
    "df_covid_2 = df_covid.loc[:,['continent','location','date','total_cases','new_cases','total_deaths',\\\n",
    "                             'new_deaths','new_tests','total_tests','total_vaccinations',\\\n",
    "                             'people_vaccinated','people_fully_vaccinated','population','hospital_beds_per_thousand']]"
   ]
  },
  {
   "cell_type": "markdown",
   "metadata": {},
   "source": [
    "# 2 - Creating new columns for analysis"
   ]
  },
  {
   "cell_type": "markdown",
   "metadata": {},
   "source": [
    "### Creating a column to get month and year from the dates in the df"
   ]
  },
  {
   "cell_type": "code",
   "execution_count": 8,
   "metadata": {},
   "outputs": [],
   "source": [
    "df_covid_2['month_year'] = pd.to_datetime(df_covid_2[\"date\"].dt.strftime('%Y-%m'))\n",
    "df_vaccine['month_year'] = pd.to_datetime(df_vaccine[\"Day\"].dt.strftime('%Y-%m'))\n",
    "df_covid_2['new_deaths'] = df_covid_2['new_deaths'].fillna(value = 0)\n",
    "df_covid_2['total_deaths'] = df_covid_2['total_deaths'].fillna(value = 0)\n",
    "df_covid_2['people_vaccinated'] = df_covid_2['people_vaccinated'].fillna(value = 0)\n",
    "df_covid_2['people_fully_vaccinated'] = df_covid_2['people_fully_vaccinated'].fillna(value = 0)"
   ]
  },
  {
   "cell_type": "markdown",
   "metadata": {},
   "source": [
    "### Getting start date for vaccination in each country"
   ]
  },
  {
   "cell_type": "code",
   "execution_count": 9,
   "metadata": {},
   "outputs": [
    {
     "name": "stdout",
     "output_type": "stream",
     "text": [
      "<class 'pandas.core.frame.DataFrame'>\n",
      "Int64Index: 97585 entries, 0 to 97584\n",
      "Data columns (total 16 columns):\n",
      " #   Column                      Non-Null Count  Dtype         \n",
      "---  ------                      --------------  -----         \n",
      " 0   continent                   92997 non-null  object        \n",
      " 1   location                    97585 non-null  object        \n",
      " 2   date                        97585 non-null  datetime64[ns]\n",
      " 3   total_cases                 94172 non-null  float64       \n",
      " 4   new_cases                   94169 non-null  float64       \n",
      " 5   total_deaths                97585 non-null  float64       \n",
      " 6   new_deaths                  97585 non-null  float64       \n",
      " 7   new_tests                   43837 non-null  float64       \n",
      " 8   total_tests                 43532 non-null  float64       \n",
      " 9   total_vaccinations          15498 non-null  float64       \n",
      " 10  people_vaccinated           97585 non-null  float64       \n",
      " 11  people_fully_vaccinated     97585 non-null  float64       \n",
      " 12  population                  96949 non-null  float64       \n",
      " 13  hospital_beds_per_thousand  79873 non-null  float64       \n",
      " 14  month_year                  97585 non-null  datetime64[ns]\n",
      " 15  date_init_vac               93872 non-null  datetime64[ns]\n",
      "dtypes: datetime64[ns](3), float64(11), object(2)\n",
      "memory usage: 12.7+ MB\n"
     ]
    }
   ],
   "source": [
    "cond_1 = df_covid_2['people_vaccinated'] == 0\n",
    "init_vac = df_covid_2.loc[~cond_1,['location','date']].groupby(by='location').min().reset_index()\n",
    "init_vac.rename(columns={'date':'date_init_vac'}, inplace = True)\n",
    "df_covid_3 = df_covid_2.merge(init_vac, how = 'left', on = 'location')\n",
    "# Sorting data frame by country and date\n",
    "df_covid_3.sort_values(by=['location', 'date'], ascending = [True, True]).reset_index(drop = True);\n",
    "df_covid_3.info()"
   ]
  },
  {
   "cell_type": "code",
   "execution_count": 10,
   "metadata": {},
   "outputs": [
    {
     "name": "stdout",
     "output_type": "stream",
     "text": [
      "<class 'pandas.core.frame.DataFrame'>\n",
      "Int64Index: 97585 entries, 0 to 97584\n",
      "Data columns (total 17 columns):\n",
      " #   Column                      Non-Null Count  Dtype         \n",
      "---  ------                      --------------  -----         \n",
      " 0   continent                   92997 non-null  object        \n",
      " 1   location                    97585 non-null  object        \n",
      " 2   date                        97585 non-null  datetime64[ns]\n",
      " 3   total_cases                 94172 non-null  float64       \n",
      " 4   new_cases                   94169 non-null  float64       \n",
      " 5   total_deaths                97585 non-null  float64       \n",
      " 6   new_deaths                  97585 non-null  float64       \n",
      " 7   new_tests                   43837 non-null  float64       \n",
      " 8   total_tests                 43532 non-null  float64       \n",
      " 9   total_vaccinations          15498 non-null  float64       \n",
      " 10  people_vaccinated           97585 non-null  float64       \n",
      " 11  people_fully_vaccinated     97585 non-null  float64       \n",
      " 12  population                  96949 non-null  float64       \n",
      " 13  hospital_beds_per_thousand  79873 non-null  float64       \n",
      " 14  month_year                  97585 non-null  datetime64[ns]\n",
      " 15  date_init_vac               93872 non-null  datetime64[ns]\n",
      " 16  date_init_vac_full          86078 non-null  datetime64[ns]\n",
      "dtypes: datetime64[ns](4), float64(11), object(2)\n",
      "memory usage: 13.4+ MB\n"
     ]
    }
   ],
   "source": [
    "cond_1 = df_covid_3['people_fully_vaccinated'] == 0\n",
    "init_vac = df_covid_3.loc[~cond_1,['location','date']].groupby(by='location').min().reset_index()\n",
    "init_vac.rename(columns={'date':'date_init_vac_full'}, inplace = True)\n",
    "df_covid_31 = df_covid_3.merge(init_vac, how = 'left', on = 'location')\n",
    "# Sorting data frame by country and date\n",
    "df_covid_31.sort_values(by=['location', 'date'], ascending = [True, True]).reset_index(drop = True);\n",
    "df_covid_31.info()"
   ]
  },
  {
   "cell_type": "code",
   "execution_count": 11,
   "metadata": {},
   "outputs": [],
   "source": [
    "df_covid_3 = df_covid_31"
   ]
  },
  {
   "cell_type": "code",
   "execution_count": 12,
   "metadata": {},
   "outputs": [],
   "source": [
    "for row in range(len(df_covid_3)):\n",
    "    if df_covid_3.iloc[row,2] < df_covid_3.iloc[row,16]:\n",
    "        pass\n",
    "    elif df_covid_3.iloc[row,11] == 0:\n",
    "        row_int = row\n",
    "        while df_covid_3.iloc[row_int,11] == 0:\n",
    "            row_int = row_int-1\n",
    "        df_covid_3.iloc[row,11] = df_covid_3.iloc[row_int,11]"
   ]
  },
  {
   "cell_type": "code",
   "execution_count": 13,
   "metadata": {},
   "outputs": [],
   "source": [
    "for row in range(len(df_covid_3)):\n",
    "    if df_covid_3.iloc[row,2] < df_covid_3.iloc[row,15]:\n",
    "        pass\n",
    "    elif df_covid_3.iloc[row,10] == 0:\n",
    "        row_int = row\n",
    "        while df_covid_3.iloc[row_int,10] == 0:\n",
    "            row_int = row_int-1\n",
    "        df_covid_3.iloc[row,10] = df_covid_3.iloc[row_int,10]"
   ]
  },
  {
   "cell_type": "markdown",
   "metadata": {},
   "source": [
    "### Creating a recovered column:\n",
    "#### Recovered Cases (D0) = Total Cases (D0 - AVG Days to Recover) - Total Deaths (D0)"
   ]
  },
  {
   "cell_type": "code",
   "execution_count": 14,
   "metadata": {},
   "outputs": [],
   "source": [
    "result = []\n",
    "days_to_recover = 22\n",
    "countries_list = list(df_covid_3.location.unique()) \n",
    "\n",
    "for country in countries_list:\n",
    "    df_filtered = df_covid_3.loc[df_covid_3.location==country,:].copy()\n",
    "    \n",
    "    for row in range(len(df_filtered)):\n",
    "        if row < 22:\n",
    "            recovered = 0\n",
    "            result.append(recovered)\n",
    "        else:\n",
    "            try:\n",
    "                recovered = int(df_filtered.iloc[row-days_to_recover,3] - df_filtered.iloc[row,6])\n",
    "                if recovered < 0:\n",
    "                    0\n",
    "                else:\n",
    "                    recovered\n",
    "            except:\n",
    "                recovered = 0\n",
    "            result.append(recovered)\n",
    "\n",
    "df_concat = pd.DataFrame({'total_recovered':result})    \n",
    "df_covid_4 = pd.concat([df_covid_3,df_concat], axis =1 )"
   ]
  },
  {
   "cell_type": "markdown",
   "metadata": {},
   "source": [
    "### Creating column to identifie when Country's population achieves over XPTO % of immunization.\n",
    "#### % Immunization will be calculated in 4 different ways"
   ]
  },
  {
   "cell_type": "code",
   "execution_count": 15,
   "metadata": {},
   "outputs": [],
   "source": [
    "#df_covid_4['pop_immunized'] = df_covid_4['total_recovered'] + df_covid_4['people_vaccinated']\n",
    "#df_covid_4['pop_immunized'] = df_covid_4['total_recovered'] + df_covid_4['people_fully_vaccinated']\n",
    "#df_covid_4['pop_immunized'] = df_covid_4['people_vaccinated']\n",
    "df_covid_4['pop_immunized'] = df_covid_4['people_fully_vaccinated']\n",
    "\n",
    "df_covid_4['immunized_percentage'] = df_covid_4['pop_immunized']/df_covid_4['population']\n",
    "df_covid_4['immunized_percentage'] = df_covid_4['immunized_percentage'].apply(lambda x: 1 if x > 1.0 else x)"
   ]
  },
  {
   "cell_type": "code",
   "execution_count": 16,
   "metadata": {},
   "outputs": [],
   "source": [
    "df_covid_4['death_pop'] = df_covid_4['total_deaths']/df_covid_4['population']\n",
    "df_covid_4['cases_pop'] = df_covid_4['total_cases']/df_covid_4['population']"
   ]
  },
  {
   "cell_type": "code",
   "execution_count": 17,
   "metadata": {},
   "outputs": [
    {
     "name": "stderr",
     "output_type": "stream",
     "text": [
      "/usr/local/Cellar/jupyterlab/3.0.0/libexec/lib/python3.9/site-packages/numpy/core/fromnumeric.py:3372: RuntimeWarning: Mean of empty slice.\n",
      "  return _methods._mean(a, axis=axis, dtype=dtype,\n",
      "/usr/local/Cellar/jupyterlab/3.0.0/libexec/lib/python3.9/site-packages/numpy/core/_methods.py:170: RuntimeWarning: invalid value encountered in double_scalars\n",
      "  ret = ret.dtype.type(ret / rcount)\n"
     ]
    }
   ],
   "source": [
    "### Creating two dataframes: before and after immunization\n",
    "percentage = 0.35\n",
    "cond_1 = df_covid_4.immunized_percentage >= percentage\n",
    "cond_3 = df_covid_4.new_deaths > 0\n",
    "im_countries = list(df_covid_4.loc[cond_1,'location'].unique())\n",
    "p_value_ind = []\n",
    "p_value_levene = []\n",
    "\n",
    "for country in im_countries:\n",
    "    cond_2 = df_covid_4.location == country\n",
    "    \n",
    "    df_after = df_covid_4.loc[cond_1&cond_2,:]\n",
    "    df_before = df_covid_4.loc[~cond_1&cond_2&cond_3,:]\n",
    "    #df_before = df_covid_4.loc[~cond_1&cond_2,:]\n",
    "    \n",
    "    x_ind = stats.ttest_ind(df_after['new_deaths'], df_before['new_deaths'].dropna())\n",
    "    y = stats.levene(df_after['new_deaths'], df_before['new_deaths'].dropna())\n",
    "    \n",
    "    p_value_ind.append(x_ind[1])\n",
    "    p_value_levene.append(y[1])\n",
    "    \n",
    "df_test = pd.DataFrame({'country': im_countries , 'p_value_levene': p_value_levene, 'p_value_ind': p_value_ind })"
   ]
  },
  {
   "cell_type": "code",
   "execution_count": 18,
   "metadata": {},
   "outputs": [
    {
     "data": {
      "text/plain": [
       "42"
      ]
     },
     "execution_count": 18,
     "metadata": {},
     "output_type": "execute_result"
    }
   ],
   "source": [
    "len(im_countries)"
   ]
  },
  {
   "cell_type": "markdown",
   "metadata": {},
   "source": [
    "#### Checking how many countries have the same var before and after. Like a filter to our tests."
   ]
  },
  {
   "cell_type": "code",
   "execution_count": 19,
   "metadata": {},
   "outputs": [
    {
     "data": {
      "text/plain": [
       "6"
      ]
     },
     "execution_count": 19,
     "metadata": {},
     "output_type": "execute_result"
    }
   ],
   "source": [
    "cond_I = df_test.p_value_levene > 0.05\n",
    "cond_II = df_test.p_value_ind <= 0.05\n",
    "len(df_test.dropna().loc[cond_I, :].sort_values(by='p_value_ind' , ascending = False ))"
   ]
  },
  {
   "cell_type": "markdown",
   "metadata": {},
   "source": [
    "#### Checking how many countries have the same var before and after and REJECTED our null hipothesis"
   ]
  },
  {
   "cell_type": "code",
   "execution_count": 20,
   "metadata": {},
   "outputs": [
    {
     "data": {
      "text/plain": [
       "6"
      ]
     },
     "execution_count": 20,
     "metadata": {},
     "output_type": "execute_result"
    }
   ],
   "source": [
    "cond_I = df_test.p_value_levene > 0.05\n",
    "cond_II = df_test.p_value_ind <= 0.05\n",
    "len(df_test.dropna().loc[cond_I&cond_II, :].sort_values(by='p_value_ind' , ascending = False ))"
   ]
  },
  {
   "cell_type": "markdown",
   "metadata": {},
   "source": [
    "#### Checking how many countries have the same var before and after and CONFIRMED our null hipothesis"
   ]
  },
  {
   "cell_type": "code",
   "execution_count": 21,
   "metadata": {},
   "outputs": [
    {
     "data": {
      "text/plain": [
       "0"
      ]
     },
     "execution_count": 21,
     "metadata": {},
     "output_type": "execute_result"
    }
   ],
   "source": [
    "cond_I = df_test.p_value_levene > 0.05\n",
    "cond_II = df_test.p_value_ind > 0.05\n",
    "len(df_test.dropna().loc[cond_I&cond_II, :].sort_values(by='p_value_ind' , ascending = False ))"
   ]
  },
  {
   "cell_type": "code",
   "execution_count": 22,
   "metadata": {},
   "outputs": [
    {
     "data": {
      "text/html": [
       "<div>\n",
       "<style scoped>\n",
       "    .dataframe tbody tr th:only-of-type {\n",
       "        vertical-align: middle;\n",
       "    }\n",
       "\n",
       "    .dataframe tbody tr th {\n",
       "        vertical-align: top;\n",
       "    }\n",
       "\n",
       "    .dataframe thead th {\n",
       "        text-align: right;\n",
       "    }\n",
       "</style>\n",
       "<table border=\"1\" class=\"dataframe\">\n",
       "  <thead>\n",
       "    <tr style=\"text-align: right;\">\n",
       "      <th></th>\n",
       "      <th>country</th>\n",
       "      <th>p_value_levene</th>\n",
       "      <th>p_value_ind</th>\n",
       "    </tr>\n",
       "  </thead>\n",
       "  <tbody>\n",
       "    <tr>\n",
       "      <th>28</th>\n",
       "      <td>Serbia</td>\n",
       "      <td>0.03</td>\n",
       "      <td>0.10</td>\n",
       "    </tr>\n",
       "    <tr>\n",
       "      <th>34</th>\n",
       "      <td>United Arab Emirates</td>\n",
       "      <td>0.00</td>\n",
       "      <td>0.03</td>\n",
       "    </tr>\n",
       "    <tr>\n",
       "      <th>37</th>\n",
       "      <td>Uruguay</td>\n",
       "      <td>0.20</td>\n",
       "      <td>0.02</td>\n",
       "    </tr>\n",
       "    <tr>\n",
       "      <th>22</th>\n",
       "      <td>Mongolia</td>\n",
       "      <td>0.01</td>\n",
       "      <td>0.02</td>\n",
       "    </tr>\n",
       "    <tr>\n",
       "      <th>30</th>\n",
       "      <td>Singapore</td>\n",
       "      <td>0.07</td>\n",
       "      <td>0.02</td>\n",
       "    </tr>\n",
       "    <tr>\n",
       "      <th>29</th>\n",
       "      <td>Seychelles</td>\n",
       "      <td>0.68</td>\n",
       "      <td>0.00</td>\n",
       "    </tr>\n",
       "    <tr>\n",
       "      <th>25</th>\n",
       "      <td>Qatar</td>\n",
       "      <td>0.12</td>\n",
       "      <td>0.00</td>\n",
       "    </tr>\n",
       "    <tr>\n",
       "      <th>6</th>\n",
       "      <td>Chile</td>\n",
       "      <td>0.77</td>\n",
       "      <td>0.00</td>\n",
       "    </tr>\n",
       "    <tr>\n",
       "      <th>35</th>\n",
       "      <td>United Kingdom</td>\n",
       "      <td>0.00</td>\n",
       "      <td>0.00</td>\n",
       "    </tr>\n",
       "    <tr>\n",
       "      <th>13</th>\n",
       "      <td>Iceland</td>\n",
       "      <td>0.13</td>\n",
       "      <td>0.00</td>\n",
       "    </tr>\n",
       "    <tr>\n",
       "      <th>12</th>\n",
       "      <td>Hungary</td>\n",
       "      <td>0.00</td>\n",
       "      <td>0.00</td>\n",
       "    </tr>\n",
       "    <tr>\n",
       "      <th>36</th>\n",
       "      <td>United States</td>\n",
       "      <td>0.00</td>\n",
       "      <td>0.00</td>\n",
       "    </tr>\n",
       "    <tr>\n",
       "      <th>15</th>\n",
       "      <td>Israel</td>\n",
       "      <td>0.00</td>\n",
       "      <td>0.00</td>\n",
       "    </tr>\n",
       "    <tr>\n",
       "      <th>21</th>\n",
       "      <td>Monaco</td>\n",
       "      <td>0.04</td>\n",
       "      <td>0.00</td>\n",
       "    </tr>\n",
       "    <tr>\n",
       "      <th>27</th>\n",
       "      <td>San Marino</td>\n",
       "      <td>0.00</td>\n",
       "      <td>0.00</td>\n",
       "    </tr>\n",
       "    <tr>\n",
       "      <th>18</th>\n",
       "      <td>Malta</td>\n",
       "      <td>0.00</td>\n",
       "      <td>0.00</td>\n",
       "    </tr>\n",
       "    <tr>\n",
       "      <th>3</th>\n",
       "      <td>Bahrain</td>\n",
       "      <td>0.00</td>\n",
       "      <td>0.00</td>\n",
       "    </tr>\n",
       "  </tbody>\n",
       "</table>\n",
       "</div>"
      ],
      "text/plain": [
       "                 country  p_value_levene  p_value_ind\n",
       "28                Serbia            0.03         0.10\n",
       "34  United Arab Emirates            0.00         0.03\n",
       "37               Uruguay            0.20         0.02\n",
       "22              Mongolia            0.01         0.02\n",
       "30             Singapore            0.07         0.02\n",
       "29            Seychelles            0.68         0.00\n",
       "25                 Qatar            0.12         0.00\n",
       "6                  Chile            0.77         0.00\n",
       "35        United Kingdom            0.00         0.00\n",
       "13               Iceland            0.13         0.00\n",
       "12               Hungary            0.00         0.00\n",
       "36         United States            0.00         0.00\n",
       "15                Israel            0.00         0.00\n",
       "21                Monaco            0.04         0.00\n",
       "27            San Marino            0.00         0.00\n",
       "18                 Malta            0.00         0.00\n",
       "3                Bahrain            0.00         0.00"
      ]
     },
     "execution_count": 22,
     "metadata": {},
     "output_type": "execute_result"
    }
   ],
   "source": [
    "df_test.dropna().sort_values(by='p_value_ind' , ascending = False )"
   ]
  },
  {
   "cell_type": "code",
   "execution_count": 23,
   "metadata": {},
   "outputs": [
    {
     "name": "stdout",
     "output_type": "stream",
     "text": [
      "288.94130925507903 9.678571428571429\n"
     ]
    }
   ],
   "source": [
    "### Creating two dataframes: before and after immunization\n",
    "percentage = 0.35\n",
    "cond_1 = df_covid_4.immunized_percentage >= percentage\n",
    "cond_3 = df_covid_4.new_deaths > 0\n",
    "country = 'United Kingdom'\n",
    "cond_2 = df_covid_4.location == country\n",
    "df_after = df_covid_4.loc[cond_1&cond_2,:]\n",
    "df_before = df_covid_4.loc[~cond_1&cond_2&cond_3,:]\n",
    "print(df_before.new_deaths.mean(),df_after.new_deaths.mean())"
   ]
  },
  {
   "cell_type": "code",
   "execution_count": 24,
   "metadata": {},
   "outputs": [],
   "source": [
    "### Creating two dataframes: before and after immunization\n",
    "percentage = 0.35\n",
    "cond_1 = df_covid_4.immunized_percentage >= percentage\n",
    "cond_2 = df_covid_4.new_deaths > 0\n",
    "df_after = df_covid_4.loc[cond_1&cond_2,:]\n",
    "df_before = df_covid_4.loc[~cond_1&cond_2,:]"
   ]
  },
  {
   "cell_type": "code",
   "execution_count": 25,
   "metadata": {},
   "outputs": [
    {
     "data": {
      "text/plain": [
       "Timestamp('2020-03-26 00:00:00')"
      ]
     },
     "execution_count": 25,
     "metadata": {},
     "output_type": "execute_result"
    }
   ],
   "source": [
    "df_after.date.min()"
   ]
  },
  {
   "cell_type": "code",
   "execution_count": 27,
   "metadata": {},
   "outputs": [],
   "source": [
    "df_covid_4.to_excel('covid_output.xlsx')"
   ]
  },
  {
   "cell_type": "code",
   "execution_count": null,
   "metadata": {},
   "outputs": [],
   "source": []
  }
 ],
 "metadata": {
  "kernelspec": {
   "display_name": "Python 3",
   "language": "python",
   "name": "python3"
  },
  "language_info": {
   "codemirror_mode": {
    "name": "ipython",
    "version": 3
   },
   "file_extension": ".py",
   "mimetype": "text/x-python",
   "name": "python",
   "nbconvert_exporter": "python",
   "pygments_lexer": "ipython3",
   "version": "3.9.1"
  }
 },
 "nbformat": 4,
 "nbformat_minor": 4
}
